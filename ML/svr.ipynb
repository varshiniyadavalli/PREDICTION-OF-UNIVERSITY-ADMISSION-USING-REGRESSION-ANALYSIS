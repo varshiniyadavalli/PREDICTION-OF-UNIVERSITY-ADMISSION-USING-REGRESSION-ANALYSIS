{
 "cells": [
  {
   "cell_type": "code",
   "execution_count": 1,
   "metadata": {},
   "outputs": [],
   "source": [
    "import pandas as pd\n",
    "import numpy as np\n",
    "import matplotlib.pyplot as plt\n",
    "import seaborn as sb"
   ]
  },
  {
   "cell_type": "code",
   "execution_count": 2,
   "metadata": {},
   "outputs": [],
   "source": [
    "admis= pd.read_csv('Admission_Predict.csv')\n",
    "x=admis.iloc[:,1:8].values\n",
    "y=admis.iloc[:,8].values"
   ]
  },
  {
   "cell_type": "code",
   "execution_count": 43,
   "metadata": {},
   "outputs": [
    {
     "name": "stdout",
     "output_type": "stream",
     "text": [
      "Training data\n",
      "\n",
      "R2 score 0.7752923508243986\n",
      "RMSE score 0.06646403165192585\n",
      "\n",
      "\n",
      "Testing data\n",
      "\n",
      "R2 score 0.7724515313595065\n",
      "RMSE score 0.07085143814571268\n"
     ]
    }
   ],
   "source": [
    "from sklearn.svm import SVR\n",
    "regressor=SVR(kernel='linear',degree=2)\n",
    "from sklearn.model_selection import train_test_split\n",
    "xtrain,xtest,ytrain,ytest=train_test_split(x,y)\n",
    "regressor.fit(xtrain,ytrain)\n",
    "trainpred=regressor.predict(xtrain)\n",
    "pred=regressor.predict(xtest)\n",
    "from sklearn.metrics import r2_score,mean_squared_error\n",
    "\n",
    "print('Training data\\n')\n",
    "print('R2 score',r2_score(ytrain,trainpred))\n",
    "print('RMSE score',np.sqrt(mean_squared_error(ytrain,trainpred)))\n",
    "\n",
    "print('\\n\\nTesting data\\n')\n",
    "print('R2 score',r2_score(ytest,pred))\n",
    "print('RMSE score',np.sqrt(mean_squared_error(ytest,pred)))\n"
   ]
  },
  {
   "cell_type": "code",
   "execution_count": null,
   "metadata": {},
   "outputs": [],
   "source": []
  }
 ],
 "metadata": {
  "kernelspec": {
   "display_name": "Python 3",
   "language": "python",
   "name": "python3"
  },
  "language_info": {
   "codemirror_mode": {
    "name": "ipython",
    "version": 3
   },
   "file_extension": ".py",
   "mimetype": "text/x-python",
   "name": "python",
   "nbconvert_exporter": "python",
   "pygments_lexer": "ipython3",
   "version": "3.7.0"
  }
 },
 "nbformat": 4,
 "nbformat_minor": 2
}
